{
 "cells": [
  {
   "cell_type": "code",
   "execution_count": 1,
   "id": "f4db0d0d",
   "metadata": {},
   "outputs": [
    {
     "name": "stdout",
     "output_type": "stream",
     "text": [
      "3秒钟后开始截图\n"
     ]
    },
    {
     "ename": "KeyboardInterrupt",
     "evalue": "",
     "output_type": "error",
     "traceback": [
      "\u001b[1;31m---------------------------------------------------------------------------\u001b[0m",
      "\u001b[1;31mKeyboardInterrupt\u001b[0m                         Traceback (most recent call last)",
      "\u001b[1;32m~\\AppData\\Local\\Temp/ipykernel_41484/3181051340.py\u001b[0m in \u001b[0;36m<module>\u001b[1;34m\u001b[0m\n\u001b[0;32m     15\u001b[0m     \u001b[0mgrab\u001b[0m\u001b[1;33m(\u001b[0m\u001b[1;33m(\u001b[0m\u001b[1;36m1024\u001b[0m\u001b[1;33m,\u001b[0m\u001b[1;36m200\u001b[0m\u001b[1;33m,\u001b[0m\u001b[1;36m1900\u001b[0m\u001b[1;33m,\u001b[0m\u001b[1;36m1500\u001b[0m\u001b[1;33m)\u001b[0m\u001b[1;33m)\u001b[0m\u001b[1;33m.\u001b[0m\u001b[0msave\u001b[0m\u001b[1;33m(\u001b[0m\u001b[1;34mrf'{directory}\\ttt{i}.jpg'\u001b[0m\u001b[1;33m)\u001b[0m\u001b[1;33m\u001b[0m\u001b[1;33m\u001b[0m\u001b[0m\n\u001b[0;32m     16\u001b[0m     \u001b[0mmouse_event\u001b[0m\u001b[1;33m(\u001b[0m\u001b[0mMOUSEEVENTF_WHEEL\u001b[0m\u001b[1;33m,\u001b[0m\u001b[1;36m0\u001b[0m\u001b[1;33m,\u001b[0m\u001b[1;36m0\u001b[0m\u001b[1;33m,\u001b[0m\u001b[1;33m-\u001b[0m\u001b[1;36m800\u001b[0m\u001b[1;33m)\u001b[0m\u001b[1;33m\u001b[0m\u001b[1;33m\u001b[0m\u001b[0m\n\u001b[1;32m---> 17\u001b[1;33m     \u001b[0msleep\u001b[0m\u001b[1;33m(\u001b[0m\u001b[1;36m5\u001b[0m\u001b[1;33m)\u001b[0m\u001b[1;33m\u001b[0m\u001b[1;33m\u001b[0m\u001b[0m\n\u001b[0m",
      "\u001b[1;31mKeyboardInterrupt\u001b[0m: "
     ]
    }
   ],
   "source": [
    "from time import sleep\n",
    "from os import mkdir\n",
    "from os.path import exists\n",
    "from win32api import mouse_event\n",
    "from win32con import MOUSEEVENTF_WHEEL\n",
    "from PIL.ImageGrab import grab\n",
    "\n",
    "directory = 'captured_picture'\n",
    "\n",
    "if not exists(directory):\n",
    "    mkdir(directory)\n",
    "\n",
    "print('3秒钟后开始截图')\n",
    "for i in range(115):\n",
    "    grab((1024,200,1900,1500)).save(rf'{directory}\\ttt{i}.jpg')\n",
    "    mouse_event(MOUSEEVENTF_WHEEL,0,0,-800)\n",
    "    sleep(5)"
   ]
  },
  {
   "cell_type": "code",
   "execution_count": 6,
   "id": "cd4e5f84",
   "metadata": {},
   "outputs": [
    {
     "data": {
      "text/plain": [
       "<Figure size 432x288 with 0 Axes>"
      ]
     },
     "metadata": {},
     "output_type": "display_data"
    }
   ],
   "source": [
    "from PIL import Image\n",
    "from matplotlib import pyplot as plt\n",
    "img = plt.imread('D:/迅雷下载/roll_screenshot-master/captured_picture/ttt1.jpg')\n",
    "plt.savefig('name.pdf')"
   ]
  },
  {
   "cell_type": "code",
   "execution_count": 14,
   "id": "a4ad5e17",
   "metadata": {},
   "outputs": [],
   "source": [
    "import os\n",
    "import img2pdf\n",
    "\n",
    "path = 'D:/迅雷下载/roll_screenshot-master/captured_picture/'\n",
    "l = os.listdir(path)\n",
    "#with open(\"name.pdf\") as f:\n",
    "    #f.write(img2pdf.convert(l))\n",
    "for s in l:\n",
    "    src = path + s\n",
    "    s = s[3:]\n",
    "    dst = path + s\n",
    "    os.rename(src,dst)"
   ]
  },
  {
   "cell_type": "code",
   "execution_count": 46,
   "id": "d36b7cbf",
   "metadata": {},
   "outputs": [
    {
     "data": {
      "text/plain": [
       "''"
      ]
     },
     "execution_count": 46,
     "metadata": {},
     "output_type": "execute_result"
    }
   ],
   "source": [
    "import os\n",
    "from fpdf import FPDF\n",
    "\n",
    "pdf = FPDF(unit = \"pt\", format = [876, 1300])\n",
    "pdf.set_auto_page_break(0)    #自动分页设为false\n",
    "\n",
    "\n",
    "path = 'D:/迅雷下载/roll_screenshot-master/captured_picture/'\n",
    "\n",
    "l = list(range(1,109))\n",
    "sl = []\n",
    "for k in l:\n",
    "    sl.append(str(k)+'.jpg')\n",
    "\n",
    "for image in sl:\n",
    "    pdf.add_page()\n",
    "    pdf.image(path+image,0,0)    #指定宽和高\n",
    "    \n",
    "pdf.output(path+'论文.pdf',\"F\")"
   ]
  }
 ],
 "metadata": {
  "kernelspec": {
   "display_name": "Python 3 (ipykernel)",
   "language": "python",
   "name": "python3"
  },
  "language_info": {
   "codemirror_mode": {
    "name": "ipython",
    "version": 3
   },
   "file_extension": ".py",
   "mimetype": "text/x-python",
   "name": "python",
   "nbconvert_exporter": "python",
   "pygments_lexer": "ipython3",
   "version": "3.9.7"
  },
  "toc": {
   "base_numbering": 1,
   "nav_menu": {},
   "number_sections": true,
   "sideBar": true,
   "skip_h1_title": false,
   "title_cell": "Table of Contents",
   "title_sidebar": "Contents",
   "toc_cell": false,
   "toc_position": {},
   "toc_section_display": true,
   "toc_window_display": false
  }
 },
 "nbformat": 4,
 "nbformat_minor": 5
}
